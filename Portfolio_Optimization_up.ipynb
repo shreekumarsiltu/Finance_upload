{
  "nbformat": 4,
  "nbformat_minor": 0,
  "metadata": {
    "colab": {
      "name": "Portfolio_Optimization.ipynb",
      "provenance": [],
      "collapsed_sections": []
    },
    "kernelspec": {
      "name": "python3",
      "display_name": "Python 3"
    }
  },
  "cells": [
    {
      "cell_type": "code",
      "metadata": {
        "id": "pRYIUS1jUiAD",
        "colab_type": "code",
        "outputId": "b47f5a09-1563-4f1e-c3d2-ae434afa52f6",
        "colab": {
          "base_uri": "https://localhost:8080/",
          "height": 70
        }
      },
      "source": [
        "#Importing Libraries\n",
        "\n",
        "import numpy as np\n",
        "import cvxpy as cvx\n",
        "import pandas as pd\n",
        "from datetime import datetime\n",
        "import pandas_datareader.data as pdr"
      ],
      "execution_count": 1,
      "outputs": [
        {
          "output_type": "stream",
          "text": [
            "/usr/local/lib/python3.6/dist-packages/pandas_datareader/compat/__init__.py:7: FutureWarning: pandas.util.testing is deprecated. Use the functions in the public API at pandas.testing instead.\n",
            "  from pandas.util.testing import assert_frame_equal\n"
          ],
          "name": "stderr"
        }
      ]
    },
    {
      "cell_type": "markdown",
      "metadata": {
        "id": "1H_b-mJ-Z5zT",
        "colab_type": "text"
      },
      "source": [
        "## Optimization with cvxpy\n",
        "\n",
        "http://www.cvxpy.org/\n",
        "\n",
        "Finding the optimal weights on a m-asset portfolio given the covariance matrix of the returns of m-stocks .And creating a function that takes in these values as arguments and returns the vector of optimal weights.\n"
      ]
    },
    {
      "cell_type": "markdown",
      "metadata": {
        "id": "7I57Ktg8bCxY",
        "colab_type": "text"
      },
      "source": [
        "### optimization\n",
        "So now that we have our objective function and constraints, we can solve for the values of $\\mathbf{x}$.\n",
        "cvxpy has the constructor `Problem(objective, constraints)`, which returns a `Problem` object.\n",
        "\n",
        "The `Problem` object has a function solve(), which returns the minimum of the solution.  In this case, this is the minimum variance of the portfolio.\n",
        "\n",
        "It also updates the vector $\\mathbf{x}$.\n",
        "\n",
        "We can check out the values of vector of weights x that gave the minimum portfolio variance by using `x.value`"
      ]
    },
    {
      "cell_type": "code",
      "metadata": {
        "id": "nMxFv5u4ZAxf",
        "colab_type": "code",
        "colab": {}
      },
      "source": [
        "def optimize_portfolio(returns):\n",
        "    \n",
        "    \n",
        "    m = len(returns)\n",
        "    #covariance matrix of returns\n",
        "    cov = np.cov(returns)\n",
        "    \n",
        "    # x variables (to be found with optimization)\n",
        "    x = cvx.Variable(m)\n",
        "    \n",
        "    #portfolio variance, in quadratic form\n",
        "    portfolio_variance = cvx.quad_form(x,cov)    \n",
        "    \n",
        "    #objective function\n",
        "    objective = cvx.Minimize(portfolio_variance)\n",
        "    \n",
        "    #constraints\n",
        "    constraints = [x >= 0, sum(x) == 1]\n",
        "\n",
        "    #use cvxpy to solve the objective\n",
        "    prob = cvx.Problem(objective, constraints)\n",
        "    prob.solve()\n",
        "    x_values = x.value\n",
        "\n",
        "    return x_values"
      ],
      "execution_count": 0,
      "outputs": []
    },
    {
      "cell_type": "code",
      "metadata": {
        "id": "D7oPVKznZAM8",
        "colab_type": "code",
        "colab": {}
      },
      "source": [
        "#Stock_Data_Extraction\n",
        "\n",
        "tickers = [\"ASIANPAINT.NS\",\"ADANIPORTS.NS\",\"AXISBANK.NS\",\"BAJAJ-AUTO.NS\"]\n",
        "\n",
        "start= datetime(2018,1,1)\n",
        "end = datetime.today()\n",
        "\n",
        "#Creeating a dictionary to store data for all stocks.\n",
        "ohlc_daily = {}\n",
        "for i in range(len(tickers)):\n",
        "    ohlc_daily[tickers[i]] = pdr.get_data_yahoo(tickers[i],start = start , end = end)\n",
        "\n",
        "#Creating a dataframe to store daily_returns of all stocks\n",
        "returns = pd.DataFrame()\n",
        "for ticker in tickers:\n",
        "    returns[ticker] = (ohlc_daily[ticker]['Adj Close'].pct_change())\n",
        "returns = returns.dropna(axis=0)\n",
        "\n",
        "#Applying Optimization function to get min_variance_weights\n",
        "min_var_weights = optimize_portfolio(returns.T)\n",
        "# print(min_var_weights)\n"
      ],
      "execution_count": 0,
      "outputs": []
    },
    {
      "cell_type": "code",
      "metadata": {
        "id": "DZ-Z8Glal3b8",
        "colab_type": "code",
        "colab": {
          "base_uri": "https://localhost:8080/",
          "height": 84
        },
        "outputId": "c89b47f5-d1d2-4017-94d9-4a08035b0ef8"
      },
      "source": [
        "for i in range(len(min_var_weights)):\n",
        "  print(tickers[i],\"is =====\",min_var_weights[i]);"
      ],
      "execution_count": 18,
      "outputs": [
        {
          "output_type": "stream",
          "text": [
            "ASIANPAINT.NS is ===== 0.4688522709880375\n",
            "ADANIPORTS.NS is ===== 0.16140489653268553\n",
            "AXISBANK.NS is ===== -7.066324258965074e-20\n",
            "BAJAJ-AUTO.NS is ===== 0.3697428324792769\n"
          ],
          "name": "stdout"
        }
      ]
    },
    {
      "cell_type": "code",
      "metadata": {
        "id": "KKPIndk1C86s",
        "colab_type": "code",
        "colab": {}
      },
      "source": [
        ""
      ],
      "execution_count": 0,
      "outputs": []
    }
  ]
}